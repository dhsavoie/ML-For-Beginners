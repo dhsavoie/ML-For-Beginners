{
 "cells": [
  {
   "attachments": {},
   "cell_type": "markdown",
   "metadata": {},
   "source": [
    "# Data"
   ]
  },
  {
   "attachments": {},
   "cell_type": "markdown",
   "metadata": {},
   "source": [
    "The question to be answered will determine what type of algorithms to use.\n",
    "\n",
    "This section is about preparing raw data to be used for ML. (and visualizing)\n",
    "\n",
    "Raw data is usually messy and requires some cleaning before it is ready for use.\n",
    "\n",
    "Visualizing data is a good way to learn about what ML algorithms may be best suited to the data.\n",
    "- for example, is the data visualized well as a scatterplot that follows a line? probably a good dataset to analyze with linear regression\n",
    "\n",
    "To get useful visualizations, you often need to group the data in certain ways."
   ]
  },
  {
   "attachments": {},
   "cell_type": "markdown",
   "metadata": {},
   "source": [
    "## Exploring Data with NumPy and Pandas"
   ]
  },
  {
   "attachments": {},
   "cell_type": "markdown",
   "metadata": {},
   "source": [
    "Numpy is a library for working with arrays. It is the foundation of Pandas.\n",
    "\n",
    "Pandas is a library for working with data tables. It is built on top of Numpy."
   ]
  },
  {
   "attachments": {},
   "cell_type": "markdown",
   "metadata": {},
   "source": [
    "## Testing Hypotheses"
   ]
  },
  {
   "attachments": {},
   "cell_type": "markdown",
   "metadata": {},
   "source": [
    "Data exploration is an iterative process. It may take the following tasks to analyze and test hypotheses about data:\n",
    "- Clean Data- handle errors, missing values, etc\n",
    "- Apply statistical techniques to better understand data- see how the sample might be expected to represent the real world of data and allow for random variation\n",
    "- Visualize data- see patterns and relationships, identify features that are potentially predictive of the label\n",
    "- Revise and Repeat"
   ]
  }
 ],
 "metadata": {
  "kernelspec": {
   "display_name": "Python 3",
   "language": "python",
   "name": "python3"
  },
  "language_info": {
   "name": "python",
   "version": "3.7.9"
  },
  "orig_nbformat": 4,
  "vscode": {
   "interpreter": {
    "hash": "5181b16b29078fbe627957496dd790464c1aef9813cdbd7bd4f26a76b35234a7"
   }
  }
 },
 "nbformat": 4,
 "nbformat_minor": 2
}
